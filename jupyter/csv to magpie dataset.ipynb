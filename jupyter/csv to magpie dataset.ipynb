{
 "cells": [
  {
   "cell_type": "code",
   "execution_count": 1,
   "metadata": {},
   "outputs": [],
   "source": [
    "import pandas as pd\n",
    "from tqdm import tqdm\n",
    "from copy import copy"
   ]
  },
  {
   "cell_type": "code",
   "execution_count": 2,
   "metadata": {},
   "outputs": [],
   "source": [
    "#### 전역 변수 ####\n",
    "\n",
    "\n",
    "temp_set = pd.read_csv('\n",
    "                       #파일 경로\n",
    "                        ')\n",
    "\n",
    "\n",
    "dataset = copy(temp_set)\n",
    "changed = []\n"
   ]
  },
  {
   "cell_type": "code",
   "execution_count": 3,
   "metadata": {},
   "outputs": [],
   "source": [
    "#### 분리를 위한 함수들 ####\n",
    "\n",
    "# is_int(var) - 문자열의 원소가 숫자인지 검사하는 함수\n",
    "def is_int(var):\n",
    "    try:\n",
    "        temp_var = int(var) # 정수형으로 변환 시도\n",
    "        return True # 에러가 발생하지 않으면 True 반환(정수임을 의미)\n",
    "    except:\n",
    "        return False # 에러가 발생하면 False 반환(알파벳임을 의미)\n",
    "\n",
    "# element_position_finder(compound) - 문자열(화학식)에서 알파벳들의 위치를 파악하는 함수\n",
    "def element_position_finder(compound):\n",
    "    position = []\n",
    "    for i in range(0, len(compound)):\n",
    "        if compound[i]=='.': \n",
    "            continue\n",
    "        if is_int(compound[i])!= True:\n",
    "            position.append(i)\n",
    "        else: \n",
    "            continue\n",
    "    # print(compound)\n",
    "    # print(position)\n",
    "    return position\n",
    "            \n",
    "# constant_split(compound, position) - 화학식에서 상수를 분리해내는 함수\n",
    "def constant_split(comp, pos):\n",
    "    constant = []\n",
    "    constant.clear()\n",
    "    for i in range(0, len(pos)):\n",
    "        if i != (len(pos)-1):\n",
    "            if (pos[i+1] - pos[i])!= 1:\n",
    "                constant.append(comp[pos[i]+1:pos[i+1]])\n",
    "        else:\n",
    "            try:\n",
    "                constant.append(comp[pos[i]+1:])\n",
    "            except:\n",
    "                break\n",
    "    # print(constant)\n",
    "    return constant\n",
    "\n",
    "        \n",
    "# compound_split(compound, pos) - 화학식에서 원소를 분리해내는 함수\n",
    "def element_split(comp, pos):\n",
    "    elements = []\n",
    "    elements.clear()\n",
    "    i=0\n",
    "    while i < len(pos):\n",
    "        if i != (len(pos)-1):\n",
    "            if (pos[i+1] - pos[i])== 1:\n",
    "                elements.append(comp[pos[i]:pos[i]+2])\n",
    "                i += 2\n",
    "            else:\n",
    "                elements.append(comp[pos[i]])\n",
    "                i += 1\n",
    "        else:\n",
    "            elements.append(comp[pos[i]])\n",
    "            i+=1\n",
    "        \n",
    "        # print(elements)\n",
    "    return elements\n",
    "\n",
    "\n",
    "# joiner(elements, constant) - 분리해낸 원소들 리스트와 상수들 리스트를 결합해내는 함수\n",
    "# 최종 출력 element1, const1, element2, const2, ...\n",
    "def joiner(elements, constant):\n",
    "    encoded = []\n",
    "    encoded.clear()\n",
    "    for i in range(0, len(names)):\n",
    "        encoded.append(elements[i])\n",
    "        encoded.append(constant[i])\n",
    "    \n",
    "    # print(encoded)\n",
    "    fin = ','.join(encoded)\n",
    "    \n",
    "    \n",
    "    # print(fin)\n",
    "    return fin\n",
    "\n",
    "def encoder(comp):\n",
    "    el_pos = element_position_finder(comp)\n",
    "    el_const_list = constant_split(comp, el_pos)\n",
    "    el_list = element_split(comp, el_pos)\n",
    "    return joiner(el_list, el_const_list)"
   ]
  },
  {
   "cell_type": "code",
   "execution_count": 4,
   "metadata": {},
   "outputs": [],
   "source": [
    "#### 진행률 표시가 포함된 함수 ####\n",
    "\n",
    "def work_func(data_set):\n",
    "    for i in tqdm(range(len(data_set.index))):\n",
    "        changed.append(encoder(data_set[i]))\n",
    "        print(\"%30s   =====>   %-40s\" %(data_set[i], changed[i]), end=\"\\r\")"
   ]
  },
  {
   "cell_type": "code",
   "execution_count": null,
   "metadata": {},
   "outputs": [],
   "source": [
    "work_func(dataset)"
   ]
  }
 ],
 "metadata": {
  "kernelspec": {
   "display_name": "Python 3",
   "language": "python",
   "name": "python3"
  },
  "language_info": {
   "codemirror_mode": {
    "name": "ipython",
    "version": 3
   },
   "file_extension": ".py",
   "mimetype": "text/x-python",
   "name": "python",
   "nbconvert_exporter": "python",
   "pygments_lexer": "ipython3",
   "version": "3.7.3"
  }
 },
 "nbformat": 4,
 "nbformat_minor": 2
}
