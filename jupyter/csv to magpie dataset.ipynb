{
 "cells": [
  {
   "cell_type": "code",
   "execution_count": 1,
   "metadata": {},
   "outputs": [],
   "source": [
    "import pandas as pd\n",
    "from tqdm import tqdm, tqdm_notebook\n",
    "from tqdm._utils import _term_move_up\n",
    "from copy import copy\n",
    "import tempfile\n",
    "\n",
    "# pandas 경고 무시\n",
    "pd.options.mode.chained_assignment = None"
   ]
  },
  {
   "cell_type": "code",
   "execution_count": 2,
   "metadata": {},
   "outputs": [],
   "source": [
    "#### 파일 ####\n",
    "\n",
    "# 파일 경로\n",
    "file_directory = \"../sample-dataset/sample.csv\"\n",
    "\n",
    "# 파일 이름\n",
    "file_name = file_directory.split(\"/\")[-1]"
   ]
  },
  {
   "cell_type": "code",
   "execution_count": 3,
   "metadata": {},
   "outputs": [],
   "source": [
    "#### 전역 변수 ####\n",
    "\n",
    "df_dataset = pd.read_csv(file_directory)\n",
    "\n",
    "temp_set = copy(df_dataset)\n",
    "\n",
    "column_comp = temp_set.columns[0]\n",
    "\n",
    "# 임시 파일 생성\n",
    "file_temp = tempfile.mktemp()"
   ]
  },
  {
   "cell_type": "code",
   "execution_count": 4,
   "metadata": {},
   "outputs": [],
   "source": [
    "#### 분리를 위한 함수들 ####\n",
    "\n",
    "# is_int(var) - 문자열의 원소가 숫자인지 검사하는 함수\n",
    "def is_int(var):\n",
    "    try:\n",
    "        temp_var = int(var) # 정수형으로 변환 시도\n",
    "        return True # 에러가 발생하지 않으면 True 반환(정수임을 의미)\n",
    "    except:\n",
    "        return False # 에러가 발생하면 False 반환(알파벳임을 의미)\n",
    "\n",
    "# element_position_finder(compound) - 문자열(화학식)에서 알파벳들의 위치를 파악하는 함수\n",
    "def element_position_finder(compound):\n",
    "    position = []\n",
    "    for i in range(0, len(compound)):\n",
    "        if compound[i]=='.': \n",
    "            continue\n",
    "        if is_int(compound[i])!= True:\n",
    "            position.append(i)\n",
    "        else: \n",
    "            continue\n",
    "    # print(compound)\n",
    "    # print(position)\n",
    "    return position\n",
    "            \n",
    "# constant_split(compound, position) - 화학식에서 상수를 분리해내는 함수\n",
    "def constant_split(comp, pos):\n",
    "    constant = []\n",
    "    constant.clear()\n",
    "    for i in range(0, len(pos)):\n",
    "        if i != (len(pos)-1):\n",
    "            if (pos[i+1] - pos[i])!= 1:\n",
    "                constant.append(comp[pos[i]+1:pos[i+1]])\n",
    "        else:\n",
    "            try:\n",
    "                constant.append(comp[pos[i]+1:])\n",
    "            except:\n",
    "                break\n",
    "    # print(constant)\n",
    "    return constant\n",
    "\n",
    "        \n",
    "# compound_split(compound, pos) - 화학식에서 원소를 분리해내는 함수\n",
    "def element_split(comp, pos):\n",
    "    elements = []\n",
    "    elements.clear()\n",
    "    i=0\n",
    "    while i < len(pos):\n",
    "        if i != (len(pos)-1):\n",
    "            if (pos[i+1] - pos[i])== 1:\n",
    "                elements.append(comp[pos[i]:pos[i]+2])\n",
    "                i += 2\n",
    "            else:\n",
    "                elements.append(comp[pos[i]])\n",
    "                i += 1\n",
    "        else:\n",
    "            elements.append(comp[pos[i]])\n",
    "            i+=1\n",
    "        \n",
    "        # print(elements)\n",
    "    return elements\n",
    "\n",
    "\n",
    "# joiner(elements, constant) - 분리해낸 원소들 리스트와 상수들 리스트를 결합해내는 함수\n",
    "# 최종 출력 element1, const1, element2, const2, ...\n",
    "def joiner(elements, constant):\n",
    "    encoded = []\n",
    "    encoded.clear()\n",
    "    for i in range(0, len(elements)):\n",
    "        encoded.append(elements[i])\n",
    "        encoded.append(constant[i])\n",
    "    \n",
    "    # print(encoded)\n",
    "    fin = ','.join(encoded)\n",
    "    \n",
    "    \n",
    "    # print(fin)\n",
    "    return fin\n",
    "\n",
    "def encoder(comp):\n",
    "    el_pos = element_position_finder(comp)\n",
    "    el_const_list = constant_split(comp, el_pos)\n",
    "    el_list = element_split(comp, el_pos)\n",
    "    return joiner(el_list, el_const_list)"
   ]
  },
  {
   "cell_type": "code",
   "execution_count": 5,
   "metadata": {},
   "outputs": [],
   "source": [
    "#### 문자열 수정 처리 함수 ####\n",
    "def revise_func(f_temp):\n",
    "    with open(f_temp, \"rt\") as file_in:\n",
    "        file_output = file_name.replace(\".csv\", \".txt\")\n",
    "        with open(\"../output/\" + file_output, \"wt\") as file_out:\n",
    "            lines = file_in.readlines()\n",
    "            lines[0] = lines[0].replace(column_comp + \",\", column_comp + \" \")\n",
    "            file_out.write(lines[0])\n",
    "            i = 1\n",
    "            while i < len(temp_set.index)+1 :\n",
    "                lines[i] = lines[i].replace(\"\\\",\", \" \")\n",
    "                lines[i] = lines[i].replace(\"\\\"\", \"\")\n",
    "                file_out.write(lines[i])\n",
    "                i += 1\n",
    "            file_out.close()\n",
    "        file_in.close()\n",
    "        print(\"\\noutput/%s\" %file_output)"
   ]
  },
  {
   "cell_type": "code",
   "execution_count": 6,
   "metadata": {},
   "outputs": [],
   "source": [
    "#### 총 작업 함수 ####\n",
    "\n",
    "# original\n",
    "def work_func():\n",
    "    print('')\n",
    "    for i in range(len(temp_set.index)):\n",
    "        print(\"%30s   =====>   %-60s   %6d/%-6d\" %(df_dataset[column_comp][i], \"\", i+1, len(temp_set.index)), end=\"\\r\")\n",
    "        temp_set[column_comp][i] = encoder(df_dataset[column_comp][i])\n",
    "        print(\"%30s   =====>   %-60s\" %(df_dataset[column_comp][i], temp_set[column_comp][i]), end=\"\\r\")\n",
    "    temp_set.to_csv(file_temp, index=False)\n",
    "    revise_func(file_temp)\n",
    "    \n",
    "\n",
    "#### 진행률 표시가 포함된 총 작업 함수 ####\n",
    "\n",
    "# jupyter notebook\n",
    "def work_func_jn():\n",
    "    for i in tqdm_notebook(range(len(temp_set.index))):\n",
    "        print(\"%30s   =====>   %-60s\" %(df_dataset[column_comp][i], \"\"), end=\"\\r\")\n",
    "        temp_set[column_comp][i] = encoder(df_dataset[column_comp][i])\n",
    "        print(\"%30s   =====>   %-60s\" %(df_dataset[column_comp][i],temp_set[column_comp][i]), end=\"\\r\")\n",
    "    temp_set.to_csv(file_temp, index=False)\n",
    "    revise_func(file_temp)\n",
    "\n",
    "# cli - with tqdm progressbar\n",
    "def work_func_cli():\n",
    "    prefix = _term_move_up() + '\\r'\n",
    "    print('')\n",
    "    for i in tqdm(range(len(temp_set.index))):\n",
    "        tqdm.write(prefix + \"%30s   =====>   %-60s\" %(df_dataset[column_comp][i], \"\"))\n",
    "        temp_set[column_comp][i] = encoder(df_dataset[column_comp][i])\n",
    "        tqdm.write(prefix + \"%30s   =====>   %-60s\" %(df_dataset[column_comp][i], temp_set[column_comp][i]))\n",
    "    temp_set.to_csv(file_temp, index=False)\n",
    "    revise_func(file_temp)"
   ]
  },
  {
   "cell_type": "code",
   "execution_count": 7,
   "metadata": {},
   "outputs": [
    {
     "name": "stdout",
     "output_type": "stream",
     "text": [
      "\n",
      "  La1.85Sr0.15Cu0.985Fe0.015O4   =====>   La,1.85,Sr,0.15,Cu,0.985,Fe,0.015,O,4                             231/231       \r"
     ]
    }
   ],
   "source": [
    "work_func()"
   ]
  },
  {
   "cell_type": "code",
   "execution_count": 8,
   "metadata": {},
   "outputs": [
    {
     "data": {
      "application/vnd.jupyter.widget-view+json": {
       "model_id": "f9e40a1882564b94b081148a6babc2d4",
       "version_major": 2,
       "version_minor": 0
      },
      "text/plain": [
       "HBox(children=(IntProgress(value=0, max=231), HTML(value='')))"
      ]
     },
     "metadata": {},
     "output_type": "display_data"
    },
    {
     "name": "stdout",
     "output_type": "stream",
     "text": [
      "  La1.85Sr0.15Cu0.985Fe0.015O4   =====>   La,1.85,Sr,0.15,Cu,0.985,Fe,0.015,O,4                           \n"
     ]
    }
   ],
   "source": [
    "work_func_jn()"
   ]
  },
  {
   "cell_type": "code",
   "execution_count": null,
   "metadata": {},
   "outputs": [],
   "source": []
  }
 ],
 "metadata": {
  "kernelspec": {
   "display_name": "Python 3",
   "language": "python",
   "name": "python3"
  },
  "language_info": {
   "codemirror_mode": {
    "name": "ipython",
    "version": 3
   },
   "file_extension": ".py",
   "mimetype": "text/x-python",
   "name": "python",
   "nbconvert_exporter": "python",
   "pygments_lexer": "ipython3",
   "version": "3.7.3"
  }
 },
 "nbformat": 4,
 "nbformat_minor": 2
}
